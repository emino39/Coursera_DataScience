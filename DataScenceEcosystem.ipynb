{
 "cells": [
  {
   "cell_type": "markdown",
   "id": "f4fc5acd",
   "metadata": {},
   "source": [
    "# Data Science Tools and Ecosystem"
   ]
  },
  {
   "cell_type": "markdown",
   "id": "cac020b8",
   "metadata": {},
   "source": [
    "In this notebook, Data Science Tools and Ecosystem are summarized."
   ]
  },
  {
   "cell_type": "markdown",
   "id": "5113816f",
   "metadata": {},
   "source": [
    "**Objectives:**\n",
    "- List of popular languages for Data Science.\n",
    "- List of commonly used libraries in Data Science.\n",
    "- List of development environment open source used in Data Science."
   ]
  },
  {
   "cell_type": "markdown",
   "id": "d005f755",
   "metadata": {},
   "source": [
    "Some of the popular languages that Data Scientists use are:\n",
    "1. Python\n",
    "2. R\n",
    "3. SQL"
   ]
  },
  {
   "cell_type": "markdown",
   "id": "619c8d5f",
   "metadata": {},
   "source": [
    "Some of the commonly used libraries used by Data Scientists include:\n",
    "<br> In Python,\n",
    "1. Pandas (Scientifics Computing)\n",
    "2. Numpy (Scientifics Computing)\n",
    "3. Matplotlib (Visualization)\n",
    "4. Seaborn (Visualization)\n",
    "5. Scikit Learn (Machine Learning & Deep Learning)\n",
    "6. Keras (Machine Learning & Deep Learning)\n",
    "7. Tensorflow (Deep Learning)\n",
    "8. PyTorch (Deep Learning)"
   ]
  },
  {
   "cell_type": "markdown",
   "id": "20f2baf5",
   "metadata": {},
   "source": [
    "|Data Science Tools|\n",
    "|------------------|\n",
    "|Jupyter Notebooks & Lab|\n",
    "|Apache Zeppelin|\n",
    "|R Studio|"
   ]
  },
  {
   "cell_type": "markdown",
   "id": "550fd029",
   "metadata": {},
   "source": [
    "### Below are a few examples of evaluating arithmetic expressions in Python."
   ]
  },
  {
   "cell_type": "code",
   "execution_count": 1,
   "id": "c24a75f2",
   "metadata": {},
   "outputs": [
    {
     "data": {
      "text/plain": [
       "17"
      ]
     },
     "execution_count": 1,
     "metadata": {},
     "output_type": "execute_result"
    }
   ],
   "source": [
    "# This is a simple arithmetic expression to myltiply then add integers.\n",
    "(3 * 4) + 5"
   ]
  },
  {
   "cell_type": "code",
   "execution_count": 2,
   "id": "d87cc238",
   "metadata": {},
   "outputs": [
    {
     "data": {
      "text/plain": [
       "3"
      ]
     },
     "execution_count": 2,
     "metadata": {},
     "output_type": "execute_result"
    }
   ],
   "source": [
    "# This will convert 200 minutes to hours by driving by 60.\n",
    "200 // 60"
   ]
  },
  {
   "cell_type": "markdown",
   "id": "13a3b106",
   "metadata": {},
   "source": [
    "## Author"
   ]
  },
  {
   "cell_type": "markdown",
   "id": "4b0709f2",
   "metadata": {},
   "source": [
    "Minyoung Lee"
   ]
  },
  {
   "cell_type": "code",
   "execution_count": null,
   "id": "1ea2c131",
   "metadata": {},
   "outputs": [],
   "source": []
  }
 ],
 "metadata": {
  "kernelspec": {
   "display_name": "Python 3 (ipykernel)",
   "language": "python",
   "name": "python3"
  },
  "language_info": {
   "codemirror_mode": {
    "name": "ipython",
    "version": 3
   },
   "file_extension": ".py",
   "mimetype": "text/x-python",
   "name": "python",
   "nbconvert_exporter": "python",
   "pygments_lexer": "ipython3",
   "version": "3.8.6"
  }
 },
 "nbformat": 4,
 "nbformat_minor": 5
}
