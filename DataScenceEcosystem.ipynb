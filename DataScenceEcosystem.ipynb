{
 "cells": [
  {
   "cell_type": "markdown",
   "id": "72c46081",
   "metadata": {},
   "source": [
    "# Data Science Tools and Ecosystem"
   ]
  },
  {
   "cell_type": "markdown",
   "id": "cd0b5bfa",
   "metadata": {},
   "source": [
    "In this notebook, Data Science Tools and Ecosystem are summarized."
   ]
  },
  {
   "cell_type": "markdown",
   "id": "d5233749",
   "metadata": {},
   "source": [
    "**Objectives:**\n",
    "- List of popular languages for Data Science.\n",
    "- List of commonly used libraries in Data Science.\n",
    "- List of development environment open source used in Data Science."
   ]
  },
  {
   "cell_type": "markdown",
   "id": "d8d9c7a3",
   "metadata": {},
   "source": [
    "Some of the popular languages that Data Scientists use are:\n",
    "1. Python\n",
    "2. R\n",
    "3. SQL"
   ]
  },
  {
   "cell_type": "markdown",
   "id": "08fa6f5e",
   "metadata": {},
   "source": [
    "Some of the commonly used libraries used by Data Scientists include:\n",
    "<br> In Python,\n",
    "1. Pandas (Scientifics Computing)\n",
    "2. Numpy (Scientifics Computing)\n",
    "3. Matplotlib (Visualization)\n",
    "4. Seaborn (Visualization)\n",
    "5. Scikit Learn (Machine Learning & Deep Learning)\n",
    "6. Keras (Machine Learning & Deep Learning)\n",
    "7. Tensorflow (Deep Learning)\n",
    "8. PyTorch (Deep Learning)"
   ]
  },
  {
   "cell_type": "markdown",
   "id": "bc0add8f",
   "metadata": {},
   "source": [
    "|Data Science Tools|\n",
    "|------------------|\n",
    "|Jupyter Notebooks & Lab|\n",
    "|Apache Zeppelin|\n",
    "|R Studio|"
   ]
  },
  {
   "cell_type": "markdown",
   "id": "b50c9108",
   "metadata": {},
   "source": [
    "### Below are a few examples of evaluating arithmetic expressions in Python."
   ]
  },
  {
   "cell_type": "code",
   "execution_count": 1,
   "id": "b0a00b6e",
   "metadata": {},
   "outputs": [
    {
     "data": {
      "text/plain": [
       "17"
      ]
     },
     "execution_count": 1,
     "metadata": {},
     "output_type": "execute_result"
    }
   ],
   "source": [
    "# This is a simple arithmetic expression to myltiply then add integers.\n",
    "(3 * 4) + 5"
   ]
  },
  {
   "cell_type": "code",
   "execution_count": 2,
   "id": "b40260ac",
   "metadata": {},
   "outputs": [
    {
     "data": {
      "text/plain": [
       "3"
      ]
     },
     "execution_count": 2,
     "metadata": {},
     "output_type": "execute_result"
    }
   ],
   "source": [
    "# This will convert 200 minutes to hours by driving by 60.\n",
    "200 // 60"
   ]
  },
  {
   "cell_type": "markdown",
   "id": "a6be1cd6",
   "metadata": {},
   "source": [
    "## Author"
   ]
  },
  {
   "cell_type": "markdown",
   "id": "0fb32be1",
   "metadata": {},
   "source": [
    "Minyoung Lee"
   ]
  }
 ],
 "metadata": {
  "kernelspec": {
   "display_name": "Python 3 (ipykernel)",
   "language": "python",
   "name": "python3"
  },
  "language_info": {
   "codemirror_mode": {
    "name": "ipython",
    "version": 3
   },
   "file_extension": ".py",
   "mimetype": "text/x-python",
   "name": "python",
   "nbconvert_exporter": "python",
   "pygments_lexer": "ipython3",
   "version": "3.8.6"
  }
 },
 "nbformat": 4,
 "nbformat_minor": 5
}
